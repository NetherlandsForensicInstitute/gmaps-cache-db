{
 "cells": [
  {
   "cell_type": "code",
   "execution_count": null,
   "metadata": {},
   "outputs": [],
   "source": [
    "import holoviews as hv\n",
    "import geoviews as gv\n",
    "import panel as pn\n",
    "import pandas as pd\n",
    "import geopandas as gpd\n",
    "import fiona\n",
    "import re\n",
    "import subprocess\n",
    "\n",
    "hv.extension('bokeh')\n",
    "gv.extension('bokeh')\n",
    "pn.extension()\n",
    "\n",
    "fiona.drvsupport.supported_drivers[\"KML\"] = \"rw\"  # Enable geopandas KML i/o support"
   ]
  },
  {
   "cell_type": "markdown",
   "metadata": {},
   "source": [
    "# Hickman's dataset\n",
    "These cells show the visualization of Josh Hickman's dataset of the Android 13 device.\n",
    "The dataset is provided as a reference so this should just run and give you an idea how to visualize your own dataset.\n",
    "After plotting, you can pan and zoom with your mouse and scroll-wheel to look around."
   ]
  },
  {
   "cell_type": "code",
   "execution_count": null,
   "metadata": {},
   "outputs": [],
   "source": [
    "# Load data\n",
    "tiles_df = gpd.GeoDataFrame.from_file('../testdata/hickman_13.geojson')\n",
    "kml = gpd.read_file(\"../testdata/hickman_route.kml\", driver='KML')\n",
    "\n",
    "# Prepare visualization\n",
    "basemap = gv.tile_sources.CartoLight  # Lighter than OSM\n",
    "# basemap = gv.tile_sources.OSM\n",
    "tiles = gv.Contours(tiles_df['geometry'].tolist()).opts(color='black')\n",
    "kml_route = gv.Path(kml.iloc[0]['geometry']).opts(color='blue', line_width=5)\n",
    "\n",
    "(basemap * kml_route * tiles).opts(width=600, height=600, active_tools=['wheel_zoom','pan'])"
   ]
  },
  {
   "cell_type": "markdown",
   "metadata": {},
   "source": [
    "# Experiment visualization\n",
    "These cells allow for the loading and visualization of data acquired from a reference experiment.\n",
    "First, record an experiment using an AVD or physical rooted device using `experiment.py`.\n",
    "Then decrypt the collected `map_cache.db` with its corresponding `map_cache.key` using the script: `decrypt_map_cache.py`.\n",
    "The output of this decryption should be placed in: `/tmp/experiment.geosjon` for this example."
   ]
  },
  {
   "cell_type": "code",
   "execution_count": null,
   "metadata": {},
   "outputs": [],
   "source": [
    "# Load the output of decrypt_map_cache.py in a dataframe\n",
    "tiles = gpd.GeoDataFrame.from_file('/tmp/experiment.geojson')\n",
    "tiles['timestamp'] = tiles['timestamp'].dt.tz_localize('Europe/Amsterdam')\n",
    "# tiles"
   ]
  },
  {
   "cell_type": "code",
   "execution_count": null,
   "metadata": {},
   "outputs": [],
   "source": [
    "# Load the recorded locations from the experiment in a dataframe\n",
    "experiment_locations = pd.read_csv('/tmp/experiment_locations.csv', parse_dates=['timestamp'])\n",
    "experiment_locations['timestamp'] = experiment_locations['timestamp'].dt.tz_convert('Europe/Amsterdam')"
   ]
  },
  {
   "cell_type": "code",
   "execution_count": null,
   "metadata": {},
   "outputs": [],
   "source": [
    "# Calculate the video start timestamp based on exifdata and its duration\n",
    "\n",
    "def get_video_start(filepath):\n",
    "    exif = subprocess.getoutput(f'exiftool {filepath}')\n",
    "    # Create Date seems to match the time the video ends and is thus written to storage?\n",
    "    create_date = re.findall(r'^\\s*Create Date\\s+: (.*)', exif, re.MULTILINE)[0]\n",
    "    create_date = pd.to_datetime(create_date, format='%Y:%m:%d %H:%M:%S').tz_localize('UTC')\n",
    "    duration = re.findall(r'^Duration\\s+: (.*)', exif, re.MULTILINE)[0]\n",
    "    duration = pd.to_timedelta(duration)\n",
    "    return (create_date - duration).tz_convert('Europe/Amsterdam')\n",
    "\n",
    "vid_start = get_video_start('/tmp/experiment_video.mp4')\n",
    "# Show timestamps to visually confirm they are aligned in the same timezone\n",
    "# vid_start, tiles['timestamp'], experiment_locations['timestamp']"
   ]
  },
  {
   "cell_type": "code",
   "execution_count": null,
   "metadata": {},
   "outputs": [],
   "source": [
    "# Visualize the experiment by synchronizing the screenrecording with the tile data on an interative map\n",
    "\n",
    "def get_plot(t):\n",
    "    t = (vid_start + pd.Timedelta(seconds=t))  # Convert elapsed video time (seconds) to timestamp\n",
    "    location = experiment_locations.iloc[(experiment_locations['timestamp'] - t).abs().argsort()[:1]]  # Get experiment locations nearest to timestamp\n",
    "\n",
    "    old_tiles = tiles[(tiles['timestamp'] < t)]\n",
    "    cache_hit_tiles = tiles[(tiles['timestamp'] - t).abs() < pd.Timedelta(seconds=1)]\n",
    "    return (gv.Contours(old_tiles['geometry'].to_list()).opts(color='lightgray') * \\\n",
    "            gv.Contours(cache_hit_tiles['geometry'].to_list()).opts(color='blue') * \\\n",
    "            gv.Points(location, kdims=['lon', 'lat'], ).opts(marker='o', size=10, color='b'))\n",
    "\n",
    "\n",
    "SIZE=600\n",
    "vid = pn.pane.Video('/tmp/experiment_video.mp4', height=SIZE)\n",
    "dmap = (gv.tile_sources.CartoLight * hv.DynamicMap(pn.bind(get_plot, vid.param.time))).opts(height=SIZE, width=SIZE)\n",
    "pn.Row(vid, dmap)"
   ]
  }
 ],
 "metadata": {
  "kernelspec": {
   "display_name": "venv",
   "language": "python",
   "name": "python3"
  },
  "language_info": {
   "codemirror_mode": {
    "name": "ipython",
    "version": 3
   },
   "file_extension": ".py",
   "mimetype": "text/x-python",
   "name": "python",
   "nbconvert_exporter": "python",
   "pygments_lexer": "ipython3",
   "version": "3.10.7"
  }
 },
 "nbformat": 4,
 "nbformat_minor": 2
}
